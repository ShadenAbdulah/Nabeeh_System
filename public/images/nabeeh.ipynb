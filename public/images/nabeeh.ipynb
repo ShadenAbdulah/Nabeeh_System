{
 "metadata": {
  "kernelspec": {
   "name": "python3",
   "display_name": "Python 3",
   "language": "python"
  },
  "language_info": {
   "name": "python",
   "version": "3.10.13",
   "mimetype": "text/x-python",
   "codemirror_mode": {
    "name": "ipython",
    "version": 3
   },
   "pygments_lexer": "ipython3",
   "nbconvert_exporter": "python",
   "file_extension": ".py"
  },
  "kaggle": {
   "accelerator": "gpu",
   "dataSources": [
    {
     "sourceId": 7803191,
     "sourceType": "datasetVersion",
     "datasetId": 4346868
    }
   ],
   "isInternetEnabled": true,
   "language": "python",
   "sourceType": "notebook",
   "isGpuEnabled": true
  },
  "colab": {
   "provenance": [],
   "gpuType": "T4"
  }
 },
 "nbformat_minor": 4,
 "nbformat": 4,
 "cells": [
  {
   "cell_type": "markdown",
   "source": [
    "## Imports <a class=\"anchor\" id=\"imp\"></a>"
   ],
   "metadata": {
    "id": "V12oZiYE9mUn"
   }
  },
  {
   "cell_type": "code",
   "source": [
    "import os\n",
    "import math\n",
    "import numpy as np\n",
    "import pandas as pd\n",
    "import statistics as stat\n",
    "import matplotlib.pyplot as plt\n",
    "from scipy.stats import linregress\n",
    "from scipy.signal import find_peaks, peak_widths, argrelextrema"
   ],
   "metadata": {
    "_uuid": "8f2839f25d086af736a60e9eeb907d3b93b6e0e5",
    "_cell_guid": "b1076dfc-b9ad-4769-8c92-a6c4dae69d19",
    "id": "2BmI3Zf69ZxX",
    "execution": {
     "iopub.status.busy": "2024-03-10T05:12:21.459576Z",
     "iopub.execute_input": "2024-03-10T05:12:21.460372Z",
     "iopub.status.idle": "2024-03-10T05:12:22.278784Z",
     "shell.execute_reply.started": "2024-03-10T05:12:21.460335Z",
     "shell.execute_reply": "2024-03-10T05:12:22.278001Z"
    },
    "trusted": true
   },
   "execution_count": null,
   "outputs": []
  },
  {
   "cell_type": "code",
   "source": [
    "path = '/kaggle/input/sample/3'"
   ],
   "metadata": {
    "id": "EGjJ2OU_vi8D",
    "execution": {
     "iopub.status.busy": "2024-03-10T05:12:22.281012Z",
     "iopub.execute_input": "2024-03-10T05:12:22.281854Z",
     "iopub.status.idle": "2024-03-10T05:12:22.286119Z",
     "shell.execute_reply.started": "2024-03-10T05:12:22.281812Z",
     "shell.execute_reply": "2024-03-10T05:12:22.285050Z"
    },
    "trusted": true
   },
   "execution_count": null,
   "outputs": []
  },
  {
   "cell_type": "code",
   "source": [
    "ZL_trace1 = pd.read_csv(path+'/1-ZL_trace.csv')\n",
    "ZL_trace2 = pd.read_csv(path+'/3-ZL_trace.csv')\n",
    "ZL_trace3 = pd.read_csv(path+'/5-ZL_trace.csv')\n",
    "\n",
    "ZL_trace = pd.concat([ZL_trace1, ZL_trace2, ZL_trace3]).reset_index()"
   ],
   "metadata": {
    "id": "GHhB_3J29ZxY",
    "execution": {
     "iopub.status.busy": "2024-03-10T05:12:22.287562Z",
     "iopub.execute_input": "2024-03-10T05:12:22.288316Z",
     "iopub.status.idle": "2024-03-10T05:12:22.324544Z",
     "shell.execute_reply.started": "2024-03-10T05:12:22.288281Z",
     "shell.execute_reply": "2024-03-10T05:12:22.323846Z"
    },
    "trusted": true
   },
   "execution_count": null,
   "outputs": []
  },
  {
   "cell_type": "code",
   "source": [
    "ZL_predict1 = pd.read_csv(path+'/2-ZL_predict.csv')\n",
    "ZL_predict2 = pd.read_csv(path+'/4-ZL_predict.csv')\n",
    "ZL_predict3 = pd.read_csv(path+'/6-ZL_predict.csv')\n",
    "\n",
    "ZL_predict = pd.concat([ZL_predict1, ZL_predict2, ZL_predict3]).reset_index()"
   ],
   "metadata": {
    "id": "WCm_Nmod9ZxZ",
    "execution": {
     "iopub.status.busy": "2024-03-10T05:12:22.325630Z",
     "iopub.execute_input": "2024-03-10T05:12:22.325966Z",
     "iopub.status.idle": "2024-03-10T05:12:22.353542Z",
     "shell.execute_reply.started": "2024-03-10T05:12:22.325934Z",
     "shell.execute_reply": "2024-03-10T05:12:22.352772Z"
    },
    "trusted": true
   },
   "execution_count": null,
   "outputs": []
  },
  {
   "cell_type": "code",
   "source": [
    "PL_trace1 = pd.read_csv(path+'/7-PL_trace.csv')\n",
    "PL_trace2 = pd.read_csv(path+'/9-PL_trace.csv')\n",
    "PL_trace3 = pd.read_csv(path+'/11-PL_trace.csv')\n",
    "\n",
    "PL_trace = pd.concat([PL_trace1, PL_trace2, PL_trace3]).reset_index()"
   ],
   "metadata": {
    "id": "holLEqih9ZxZ",
    "execution": {
     "iopub.status.busy": "2024-03-10T05:12:22.356541Z",
     "iopub.execute_input": "2024-03-10T05:12:22.356863Z",
     "iopub.status.idle": "2024-03-10T05:12:22.383671Z",
     "shell.execute_reply.started": "2024-03-10T05:12:22.356837Z",
     "shell.execute_reply": "2024-03-10T05:12:22.382778Z"
    },
    "trusted": true
   },
   "execution_count": null,
   "outputs": []
  },
  {
   "cell_type": "code",
   "source": [
    "PL_predict1 = pd.read_csv(path+'/8-PL_predict.csv')\n",
    "PL_predict2 = pd.read_csv(path+'/10-PL_predict.csv')\n",
    "PL_predict3 = pd.read_csv(path+'/12-PL_predict.csv')\n",
    "\n",
    "PL_predict = pd.concat([PL_predict1, PL_predict2, PL_predict3]).reset_index()"
   ],
   "metadata": {
    "id": "HYKKGJI_9ZxZ",
    "execution": {
     "iopub.status.busy": "2024-03-10T05:12:22.384768Z",
     "iopub.execute_input": "2024-03-10T05:12:22.385086Z",
     "iopub.status.idle": "2024-03-10T05:12:22.411810Z",
     "shell.execute_reply.started": "2024-03-10T05:12:22.385051Z",
     "shell.execute_reply": "2024-03-10T05:12:22.410782Z"
    },
    "trusted": true
   },
   "execution_count": null,
   "outputs": []
  },
  {
   "cell_type": "code",
   "source": [
    "# df = ZL_trace.drop(columns=['index'])\n",
    "df = ZL_predict.drop(columns=['index'])\n",
    "\n",
    "# df = PL_trace.drop(columns=['index'])\n",
    "# df = PL_predict.drop(columns=['index'])"
   ],
   "metadata": {
    "id": "PBPj0iTx9ZxZ",
    "execution": {
     "iopub.status.busy": "2024-03-10T05:12:22.412958Z",
     "iopub.execute_input": "2024-03-10T05:12:22.413249Z",
     "iopub.status.idle": "2024-03-10T05:12:22.418619Z",
     "shell.execute_reply.started": "2024-03-10T05:12:22.413224Z",
     "shell.execute_reply": "2024-03-10T05:12:22.417678Z"
    },
    "trusted": true
   },
   "execution_count": null,
   "outputs": []
  },
  {
   "cell_type": "code",
   "source": [
    "output = pd.DataFrame()"
   ],
   "metadata": {
    "id": "_GWHJr0a9ZxZ",
    "execution": {
     "iopub.status.busy": "2024-03-10T05:12:22.419920Z",
     "iopub.execute_input": "2024-03-10T05:12:22.420363Z",
     "iopub.status.idle": "2024-03-10T05:12:22.426820Z",
     "shell.execute_reply.started": "2024-03-10T05:12:22.420330Z",
     "shell.execute_reply": "2024-03-10T05:12:22.426126Z"
    },
    "trusted": true
   },
   "execution_count": null,
   "outputs": []
  },
  {
   "cell_type": "markdown",
   "source": [
    "## Table Of Content <a class=\"anchor\" id=\"table\"></a>\n",
    "\n",
    "* [**Imports**](#imp)\n",
    "* [**Table Of Content**](#table)\n",
    "* [**Features 1 & 2**](#F1_2)\n",
    "* [**Feature 3**](#F3)\n",
    "* [**Feature 4**](#F4)\n",
    "* [**Features 5 & 6**](#F5_6)\n",
    "* [**Features 7 & 8**](#F7_8)\n",
    "* [**Features 9 & 10**](#F9_10)\n",
    "* [**Features 11 & 12**](#F11_12)\n",
    "* [**Features 13 & 14**](#F13_14)\n",
    "* [**Features 15 ~ 20**](#F15_20)\n",
    "* [**Feature 21**](#F21)\n",
    "* [**Feature 22**](#F22)\n",
    "* [**Feature 23**](#F23)\n",
    "* [**Feature 24**](#F24)\n",
    "* [**Feature 25**](#F25)\n",
    "* [**Features 26 & 27**](#F26_27)\n",
    "* [**Feature 28**](#F28)\n",
    "* [**Feature 29**](#F29)\n",
    "* [**Feature 30**](#F30)"
   ],
   "metadata": {
    "id": "5P8NKHY19ZxZ"
   }
  },
  {
   "cell_type": "markdown",
   "source": [
    "## Feature 1&2 <a class=\"anchor\" id=\"F1_2\"></a> 🛑\n",
    "\n",
    "Width: Max = 15434.0, Min = 764.0\n",
    "\n",
    "Height: Max = 15850.0, Min = 764.0\n",
    "\n",
    "Cintiq Pro 16, Wacom Screen Size: 15.6 inches\n",
    "\n",
    "while Samsung tab s6 is 10.4 inches (maximum height we got is 1332 and minimum 0.1 and width 665 to 0.2 )"
   ],
   "metadata": {
    "id": "QKy-QjQB9Zxa"
   }
  },
  {
   "cell_type": "code",
   "source": [
    "#Feature 1\n",
    "# From Galaxy Tab S6 Lite 1200 x 2000 to Wacom Cintiq Pro 16 3840x2160\n",
    "df['ClientX'] = df['ClientX'] * (3840 / 2000)  # Multiplier for X based on width\n",
    "df['ClientY'] = df['ClientY'] * (2160 / 1200)  # Multiplier for Y based on height\n",
    "\n",
    "\n",
    "width = max(df['ClientX']) - min(df['ClientX'])\n",
    "print(\"Width:\", width)\n",
    "\n",
    "#Feature 2\n",
    "hieght = max(df['ClientY']) - min(df['ClientY'])\n",
    "print(\"Hieght:\", hieght)"
   ],
   "metadata": {
    "id": "y3_ibvsN9Zxa",
    "outputId": "fd7f8392-8359-4c6b-b10c-8f0aba725c06",
    "execution": {
     "iopub.status.busy": "2024-03-10T05:12:22.427822Z",
     "iopub.execute_input": "2024-03-10T05:12:22.428071Z",
     "iopub.status.idle": "2024-03-10T05:12:22.441689Z",
     "shell.execute_reply.started": "2024-03-10T05:12:22.428049Z",
     "shell.execute_reply": "2024-03-10T05:12:22.440789Z"
    },
    "trusted": true
   },
   "execution_count": null,
   "outputs": []
  },
  {
   "cell_type": "code",
   "source": [
    "output.at[0, 'Width']= width\n",
    "output.at[0, 'Hieght']= hieght"
   ],
   "metadata": {
    "id": "SSUa7MJY9Zxb",
    "execution": {
     "iopub.status.busy": "2024-03-10T05:12:22.442894Z",
     "iopub.execute_input": "2024-03-10T05:12:22.443248Z",
     "iopub.status.idle": "2024-03-10T05:12:22.450829Z",
     "shell.execute_reply.started": "2024-03-10T05:12:22.443215Z",
     "shell.execute_reply": "2024-03-10T05:12:22.449986Z"
    },
    "trusted": true
   },
   "execution_count": null,
   "outputs": []
  },
  {
   "cell_type": "markdown",
   "source": [
    "## Feature 3 <a class=\"anchor\" id=\"F3\"></a> ✅\n",
    "Length: Max = 30384.48249, Min = 1242.484899"
   ],
   "metadata": {
    "id": "d8DZ62NH9Zxc"
   }
  },
  {
   "cell_type": "code",
   "source": [
    "euclidean_distances = []\n",
    "for i in range(1, len(df['ClientX'])):\n",
    "    x = df['ClientX'][i] - df['ClientX'][i-1]\n",
    "    y = df['ClientY'][i] - df['ClientY'][i-1]\n",
    "\n",
    "    sqrt = math.sqrt((x**2) + (y**2))\n",
    "    euclidean_distances.append(sqrt)\n",
    "\n",
    "# Sum of Euclidean distances\n",
    "length = sum(euclidean_distances)\n",
    "print(\"Length:\", length)"
   ],
   "metadata": {
    "id": "iTOq8tOx9Zxc",
    "outputId": "876ffda9-72e4-4eb6-9409-8ee673d3fa33",
    "execution": {
     "iopub.status.busy": "2024-03-10T05:12:22.451942Z",
     "iopub.execute_input": "2024-03-10T05:12:22.452463Z",
     "iopub.status.idle": "2024-03-10T05:12:22.644312Z",
     "shell.execute_reply.started": "2024-03-10T05:12:22.452438Z",
     "shell.execute_reply": "2024-03-10T05:12:22.643428Z"
    },
    "trusted": true
   },
   "execution_count": null,
   "outputs": []
  },
  {
   "cell_type": "code",
   "source": [
    "output.at[0, 'Length']= length"
   ],
   "metadata": {
    "id": "oJlvYXPu9Zxc",
    "execution": {
     "iopub.status.busy": "2024-03-10T05:12:22.645889Z",
     "iopub.execute_input": "2024-03-10T05:12:22.646158Z",
     "iopub.status.idle": "2024-03-10T05:12:22.651540Z",
     "shell.execute_reply.started": "2024-03-10T05:12:22.646134Z",
     "shell.execute_reply": "2024-03-10T05:12:22.650533Z"
    },
    "trusted": true
   },
   "execution_count": null,
   "outputs": []
  },
  {
   "cell_type": "markdown",
   "source": [
    "## Feature 4 <a class=\"anchor\" id=\"F4\"></a> ✅\n",
    "\n",
    "Velocity: Max = 0.99255376, Min = 0.044825129"
   ],
   "metadata": {
    "id": "flKt9CIN9Zxc"
   }
  },
  {
   "cell_type": "code",
   "source": [
    "timeSpent = (max(df['TimeSec']) - min(df['TimeSec']))\n",
    "\n",
    "# in millisecond\n",
    "velocity = output['Length'][0]/timeSpent\n",
    "\n",
    "print('Velocity:', velocity)"
   ],
   "metadata": {
    "id": "LZANCfdC9Zxd",
    "outputId": "a0374241-af1c-4a24-83f5-99dd70a3e06a",
    "execution": {
     "iopub.status.busy": "2024-03-10T05:12:22.652756Z",
     "iopub.execute_input": "2024-03-10T05:12:22.653079Z",
     "iopub.status.idle": "2024-03-10T05:12:22.663079Z",
     "shell.execute_reply.started": "2024-03-10T05:12:22.653049Z",
     "shell.execute_reply": "2024-03-10T05:12:22.662386Z"
    },
    "trusted": true
   },
   "execution_count": null,
   "outputs": []
  },
  {
   "cell_type": "code",
   "source": [
    "output.at[0, 'Velocity']= velocity"
   ],
   "metadata": {
    "id": "3Lrp7f4E9Zxd",
    "execution": {
     "iopub.status.busy": "2024-03-10T05:12:22.668231Z",
     "iopub.execute_input": "2024-03-10T05:12:22.668501Z",
     "iopub.status.idle": "2024-03-10T05:12:22.674333Z",
     "shell.execute_reply.started": "2024-03-10T05:12:22.668477Z",
     "shell.execute_reply": "2024-03-10T05:12:22.673507Z"
    },
    "trusted": true
   },
   "execution_count": null,
   "outputs": []
  },
  {
   "cell_type": "markdown",
   "source": [
    "## Feature 5&6 <a class=\"anchor\" id=\"F5_6\"></a> ✅\n",
    "P_max_V: Max = 410.1219331, Min = 5.0\n",
    "\n",
    "P_min_V: Max = 0.066666667, Min = 0.002457208"
   ],
   "metadata": {
    "id": "Xq4mOwqf9Zxd"
   }
  },
  {
   "cell_type": "code",
   "source": [
    "Max_V_P = max(df['Instantaneous_Velocity'])\n",
    "print(\"Max_V_P:\", Max_V_P)\n",
    "\n",
    "Min_V_P = np.min(df[df['Instantaneous_Velocity'] != 0]['Instantaneous_Velocity']) \n",
    "print(\"Min_V_P:\", Min_V_P)"
   ],
   "metadata": {
    "id": "TMAJxJPQ9Zxd",
    "outputId": "863d9e61-062b-408f-a933-6dbaeb3c87dd",
    "execution": {
     "iopub.status.busy": "2024-03-10T05:12:22.675254Z",
     "iopub.execute_input": "2024-03-10T05:12:22.675514Z",
     "iopub.status.idle": "2024-03-10T05:12:22.686171Z",
     "shell.execute_reply.started": "2024-03-10T05:12:22.675491Z",
     "shell.execute_reply": "2024-03-10T05:12:22.685358Z"
    },
    "trusted": true
   },
   "execution_count": null,
   "outputs": []
  },
  {
   "cell_type": "code",
   "source": [
    "output.at[0, 'Max_V_P']= Max_V_P\n",
    "output.at[0, 'Min_V_P']= Min_V_P"
   ],
   "metadata": {
    "id": "QbfPpRS_9Zxd",
    "execution": {
     "iopub.status.busy": "2024-03-10T05:12:22.687164Z",
     "iopub.execute_input": "2024-03-10T05:12:22.687440Z",
     "iopub.status.idle": "2024-03-10T05:12:22.694103Z",
     "shell.execute_reply.started": "2024-03-10T05:12:22.687408Z",
     "shell.execute_reply": "2024-03-10T05:12:22.693343Z"
    },
    "trusted": true
   },
   "execution_count": null,
   "outputs": []
  },
  {
   "cell_type": "markdown",
   "source": [
    "## Feature 7&8 <a class=\"anchor\" id=\"F7_8\"></a> ✅\n",
    "P_max_A: Max = 4101.219331, Min = 13.85041551\n",
    "\n",
    "P_min_A: Max = 0.004444444, Min = 2.28e-06"
   ],
   "metadata": {
    "id": "gNZkVjss9Zxd"
   }
  },
  {
   "cell_type": "code",
   "source": [
    "Max_A_P = max(df['acceleration']) \n",
    "print(\"Max_A_P:\", Max_A_P)\n",
    "\n",
    "# Min_A_P = min(df['acceleration'])\n",
    "Min_A_P = np.min(df[df['acceleration'] != 0]['acceleration']) \n",
    "print(\"Min_A_P:\", Min_A_P)\n"
   ],
   "metadata": {
    "id": "AtErzUB19Zxd",
    "outputId": "424bfbcc-2a59-4a81-afa1-ef53d0628b56",
    "execution": {
     "iopub.status.busy": "2024-03-10T05:12:22.695249Z",
     "iopub.execute_input": "2024-03-10T05:12:22.695786Z",
     "iopub.status.idle": "2024-03-10T05:12:22.706133Z",
     "shell.execute_reply.started": "2024-03-10T05:12:22.695759Z",
     "shell.execute_reply": "2024-03-10T05:12:22.705232Z"
    },
    "trusted": true
   },
   "execution_count": null,
   "outputs": []
  },
  {
   "cell_type": "code",
   "source": [
    "output.at[0, 'Max_A_P']= Max_A_P\n",
    "output.at[0, 'Min_A_P']= Min_A_P"
   ],
   "metadata": {
    "id": "cwigajHM9Zxd",
    "execution": {
     "iopub.status.busy": "2024-03-10T05:12:22.707227Z",
     "iopub.execute_input": "2024-03-10T05:12:22.707566Z",
     "iopub.status.idle": "2024-03-10T05:12:22.714217Z",
     "shell.execute_reply.started": "2024-03-10T05:12:22.707542Z",
     "shell.execute_reply": "2024-03-10T05:12:22.713513Z"
    },
    "trusted": true
   },
   "execution_count": null,
   "outputs": []
  },
  {
   "cell_type": "markdown",
   "source": [
    "## Feature 9&10 <a class=\"anchor\" id=\"F9_10\"></a> 🛑\n",
    "9 GripAngleMeanW Mean of grip angle values for the entire drawing task (Horizontal)\n",
    "\n",
    "10 GripAngleMeanL Mean of grip angle values for the entire drawing task (Vertical)\n",
    "\n",
    "\n",
    "GA_mean_H: Max = 3757.133333, Min = 253.3291667\n",
    "\n",
    "GA_mean_V: Max = 3785.323333, Min = 254.6756667\n",
    "\n",
    "\n",
    "Wacom Cintiq Pro 16 tilt value range is -/+60\n",
    "In Samsung, the angles that I got were between 73 and -73 degrees.\n",
    "\n",
    "i think we should use altitudeAngle and azimuthAngle?"
   ],
   "metadata": {
    "id": "URMyIDnV9Zxd"
   }
  },
  {
   "cell_type": "code",
   "source": [
    "df['TiltX'] = df['TiltX'].abs()\n",
    "df['TiltY'] = df['TiltY'].abs()\n",
    "\n",
    "# Calculate grip angles for horizontal and vertical directions\n",
    "GA_H = df.apply(lambda row: math.degrees(math.atan2(row['TiltY'], row['TiltX'])), axis=1)\n",
    "GA_V = df.apply(lambda row: math.degrees(math.atan2(row['TiltX'], row['TiltY'])), axis=1)\n",
    "\n",
    "# Compute the mean grip angles\n",
    "mean_GA_H = GA_H.mean()\n",
    "mean_GA_V = GA_V.mean()\n",
    "\n",
    "print(\"Mean grip angle for horizontal:\", mean_GA_H)\n",
    "print(\"Mean grip angle for vertical:\", mean_GA_V)\n"
   ],
   "metadata": {
    "id": "xmiM9N8V1ij3",
    "outputId": "4eea7565-7a7b-4710-d3c9-d0144b03d003",
    "execution": {
     "iopub.status.busy": "2024-03-10T05:12:22.715496Z",
     "iopub.execute_input": "2024-03-10T05:12:22.715755Z",
     "iopub.status.idle": "2024-03-10T05:12:22.863363Z",
     "shell.execute_reply.started": "2024-03-10T05:12:22.715712Z",
     "shell.execute_reply": "2024-03-10T05:12:22.862365Z"
    },
    "trusted": true
   },
   "execution_count": null,
   "outputs": []
  },
  {
   "cell_type": "code",
   "source": [
    "output.at[0, 'Mean_GA_H']= mean_GA_H\n",
    "output.at[0, 'Mean_GA_V']= mean_GA_V"
   ],
   "metadata": {
    "id": "u6KV4jPr5s-A",
    "execution": {
     "iopub.status.busy": "2024-03-10T05:12:22.864522Z",
     "iopub.execute_input": "2024-03-10T05:12:22.864808Z",
     "iopub.status.idle": "2024-03-10T05:12:22.870934Z",
     "shell.execute_reply.started": "2024-03-10T05:12:22.864783Z",
     "shell.execute_reply": "2024-03-10T05:12:22.869905Z"
    },
    "trusted": true
   },
   "execution_count": null,
   "outputs": []
  },
  {
   "cell_type": "markdown",
   "source": [
    "## Feature 11&12 <a class=\"anchor\" id=\"F11_12\"></a> 🛑\n",
    "\n",
    "11 GripAngleSDW SD of grip angle values for the entire drawing task (Horizontal)\n",
    "\n",
    "12 GripAngleSDL SD of grip angle values for the entire drawing task (Vertical)\n",
    "\n",
    "\n",
    "GA_SD_H: Max = 5703.508863, Min = 282.7519232\n",
    "\n",
    "GA_SD_V: Max = 5759.288031, Min = 281.4963054"
   ],
   "metadata": {
    "id": "ljz4P8809Zxe"
   }
  },
  {
   "cell_type": "code",
   "source": [
    "#Feature 11\n",
    "SD_GA_H = stat.stdev(GA_H)\n",
    "print(\"SD_GA_H:\", SD_GA_H)\n",
    "\n",
    "#Feature 12\n",
    "SD_GA_V = stat.stdev(GA_V)\n",
    "print(\"SD_GA_V:\", SD_GA_V)"
   ],
   "metadata": {
    "id": "5khZcjJB9Zxe",
    "outputId": "49eedc26-ab8d-4ab6-d442-a3310894d253",
    "execution": {
     "iopub.status.busy": "2024-03-10T05:12:22.872128Z",
     "iopub.execute_input": "2024-03-10T05:12:22.872424Z",
     "iopub.status.idle": "2024-03-10T05:12:22.903470Z",
     "shell.execute_reply.started": "2024-03-10T05:12:22.872398Z",
     "shell.execute_reply": "2024-03-10T05:12:22.902658Z"
    },
    "trusted": true
   },
   "execution_count": null,
   "outputs": []
  },
  {
   "cell_type": "code",
   "source": [
    "output.at[0, 'SD_GA_H']= SD_GA_H\n",
    "output.at[0, 'SD_GA_V']= SD_GA_V"
   ],
   "metadata": {
    "id": "2H-OpY1f9Zxe",
    "execution": {
     "iopub.status.busy": "2024-03-10T05:12:22.904549Z",
     "iopub.execute_input": "2024-03-10T05:12:22.904921Z",
     "iopub.status.idle": "2024-03-10T05:12:22.912955Z",
     "shell.execute_reply.started": "2024-03-10T05:12:22.904897Z",
     "shell.execute_reply": "2024-03-10T05:12:22.912183Z"
    },
    "trusted": true
   },
   "execution_count": null,
   "outputs": []
  },
  {
   "cell_type": "markdown",
   "source": [
    "## Feature 13&14 <a class=\"anchor\" id=\"F13_14\"></a> ✅\n",
    "PressureMean: Max = 3389.531667, Min = 253.708\n",
    "\n",
    "PressureSD: Max = 4932.128087, Min = 283.0064964\n",
    "\n",
    "Wacom Cintiq Pro 16 have 8,192 levels of pressure sensitivity.\n",
    "\n",
    "Galaxy Note 20 / Note 20 Ultra S-Pen (Withbluetooth) Replacement, Soft Tips, 4096 Levels of Pressure Sensitivity,"
   ],
   "metadata": {
    "id": "bwXNrNUr9Zxe"
   }
  },
  {
   "cell_type": "code",
   "source": [
    "df['Pressure'] = df['Pressure'] * 8192\n",
    "\n",
    "#Feature 13\n",
    "Mean_Press = stat.mean(df['Pressure'])\n",
    "print(\"Mean of Pressure:\", Mean_Press)\n",
    "\n",
    "#Feature 14\n",
    "SD_press = stat.stdev(df['Pressure'])\n",
    "print(\"SD of Pressure:\", SD_press)"
   ],
   "metadata": {
    "id": "up7y3Dz79Zxe",
    "outputId": "f818855a-190e-4756-a843-0b5b5d3d4532",
    "execution": {
     "iopub.status.busy": "2024-03-10T05:12:22.914293Z",
     "iopub.execute_input": "2024-03-10T05:12:22.914677Z",
     "iopub.status.idle": "2024-03-10T05:12:22.938698Z",
     "shell.execute_reply.started": "2024-03-10T05:12:22.914650Z",
     "shell.execute_reply": "2024-03-10T05:12:22.937962Z"
    },
    "trusted": true
   },
   "execution_count": null,
   "outputs": []
  },
  {
   "cell_type": "code",
   "source": [
    "output.at[0, 'Mean_Press']= Mean_Press\n",
    "output.at[0, 'SD_press']= SD_press"
   ],
   "metadata": {
    "id": "aQQhnaV99Zxe",
    "execution": {
     "iopub.status.busy": "2024-03-10T05:12:22.939868Z",
     "iopub.execute_input": "2024-03-10T05:12:22.940124Z",
     "iopub.status.idle": "2024-03-10T05:12:22.947546Z",
     "shell.execute_reply.started": "2024-03-10T05:12:22.940102Z",
     "shell.execute_reply": "2024-03-10T05:12:22.946759Z"
    },
    "trusted": true
   },
   "execution_count": null,
   "outputs": []
  },
  {
   "cell_type": "markdown",
   "source": [
    "## Feature 15~20 <a class=\"anchor\" id=\"F15_20\"></a> ✅\n",
    "\n",
    "The difference in value from the expected range may be due to the sampling rate. The Wacom Cintiq Pro 16 has a sampling rate of 200 Hz, while the sampling rate for Samsung is unknown.\n",
    "\n"
   ],
   "metadata": {
    "id": "kIr9gnzD9Zxe"
   }
  },
  {
   "cell_type": "code",
   "source": [
    "\n",
    "# Convert pressure data to floats\n",
    "pressure_data = [float(p) for p in df['Pressure']]\n",
    "\n",
    "# Calculate changes in pressure\n",
    "pressure_changes = [pressure_data[i + 1] - pressure_data[i] for i in range(len(pressure_data) - 1)]\n",
    "# print(pressure_changes)\n",
    "# Filter positive and negative  changes\n",
    "positive_changes = [change for change in pressure_changes if change > 0]\n",
    "negative_changes = [change for change in pressure_changes if change < 0]\n"
   ],
   "metadata": {
    "id": "XtLmiMXWvfvK",
    "outputId": "934e4f9f-db1e-474c-e411-7314daf7b3c3",
    "execution": {
     "iopub.status.busy": "2024-03-10T05:12:22.948675Z",
     "iopub.execute_input": "2024-03-10T05:12:22.948963Z",
     "iopub.status.idle": "2024-03-10T05:12:22.958449Z",
     "shell.execute_reply.started": "2024-03-10T05:12:22.948940Z",
     "shell.execute_reply": "2024-03-10T05:12:22.957632Z"
    },
    "trusted": true
   },
   "execution_count": null,
   "outputs": []
  },
  {
   "cell_type": "markdown",
   "source": [
    "PCAvgPos: Max = 5.899732723, Min = 0.257751205\n",
    "\n",
    "PCSDPos: Max = 22.37690428, Min = 0.471073273\n",
    "\n",
    "PCMax: Max = 1212.290503, Min = 2.240653353\n"
   ],
   "metadata": {
    "id": "NrxjUyG_vke8"
   }
  },
  {
   "cell_type": "code",
   "source": [
    "# Feature 15\n",
    "Mean_Pos_C_Pres = stat.mean(positive_changes)\n",
    "\n",
    "# Feature 16\n",
    "SD_Pos_C_Pres = stat.stdev(positive_changes)\n",
    "\n",
    "# Feature 17\n",
    "Max_Pos_C_Pres = max(positive_changes)\n",
    "\n",
    "print(\"Mean_Pos_C_Pres:\",Mean_Pos_C_Pres )\n",
    "print(\"SD_Pos_C_Pres:\",SD_Pos_C_Pres )\n",
    "print(\"Max_Pos_C_Pres:\", Max_Pos_C_Pres)"
   ],
   "metadata": {
    "id": "ugllsNPvvc7X",
    "outputId": "d68bf800-3bd6-4602-efba-cbf34b006365",
    "execution": {
     "iopub.status.busy": "2024-03-10T05:12:22.959419Z",
     "iopub.execute_input": "2024-03-10T05:12:22.959689Z",
     "iopub.status.idle": "2024-03-10T05:12:22.976892Z",
     "shell.execute_reply.started": "2024-03-10T05:12:22.959667Z",
     "shell.execute_reply": "2024-03-10T05:12:22.975959Z"
    },
    "trusted": true
   },
   "execution_count": null,
   "outputs": []
  },
  {
   "cell_type": "markdown",
   "source": [
    "PCAvgNeg: Max = 5.899732723, Min = 0.257751205\n",
    "\n",
    "PCSDNeg: Max = 22.37690428, Min = 0.471073273\n",
    "\n",
    "PCMin: Max = 1212.290503, Min = 2.240653353"
   ],
   "metadata": {
    "id": "lThpZSR-wDoY"
   }
  },
  {
   "cell_type": "code",
   "source": [
    "# Feature 18\n",
    "Mean_Neg_C_Pres = stat.mean(negative_changes)\n",
    "\n",
    "# Feature 19\n",
    "SD_Neg_C_Pres = stat.stdev(negative_changes)\n",
    "\n",
    "# Feature 20\n",
    "Max_Neg_C_Pres = max(negative_changes)\n",
    "\n",
    "print(\"Mean_Neg_C_Pres:\",Mean_Neg_C_Pres )\n",
    "print(\"SD_Neg_C_Pres:\",SD_Neg_C_Pres )\n",
    "print(\"Max_Neg_C_Pres:\",Max_Neg_C_Pres )"
   ],
   "metadata": {
    "id": "qyI32pdv9Zxf",
    "outputId": "c4f8ef36-a578-46a9-cd81-5e1696c25b54",
    "execution": {
     "iopub.status.busy": "2024-03-10T05:12:22.977969Z",
     "iopub.execute_input": "2024-03-10T05:12:22.978261Z",
     "iopub.status.idle": "2024-03-10T05:12:22.989708Z",
     "shell.execute_reply.started": "2024-03-10T05:12:22.978232Z",
     "shell.execute_reply": "2024-03-10T05:12:22.988895Z"
    },
    "trusted": true
   },
   "execution_count": null,
   "outputs": []
  },
  {
   "cell_type": "code",
   "source": [
    "output.at[0, 'Mean_Pos_C_Pres']= Mean_Pos_C_Pres\n",
    "output.at[0, 'SD_Pos_C_Pres']= SD_Pos_C_Pres\n",
    "output.at[0, 'Max_Pos_C_Pres']= Max_Pos_C_Pres\n",
    "\n",
    "output.at[0, 'Mean_Neg_C_Pres']= Mean_Neg_C_Pres\n",
    "output.at[0, 'SD_Neg_C_Pres']= SD_Neg_C_Pres\n",
    "output.at[0, 'Max_Neg_C_Pres']= Max_Neg_C_Pres\n"
   ],
   "metadata": {
    "id": "yx91lV5q9Zxf",
    "execution": {
     "iopub.status.busy": "2024-03-10T05:12:22.990961Z",
     "iopub.execute_input": "2024-03-10T05:12:22.991693Z",
     "iopub.status.idle": "2024-03-10T05:12:23.001678Z",
     "shell.execute_reply.started": "2024-03-10T05:12:22.991658Z",
     "shell.execute_reply": "2024-03-10T05:12:23.000764Z"
    },
    "trusted": true
   },
   "execution_count": null,
   "outputs": []
  },
  {
   "cell_type": "markdown",
   "source": [
    "## Feature 21 & 23 <a class=\"anchor\" id=\"F21_23\"></a> ✅"
   ],
   "metadata": {
    "id": "H8ri-Q_c9Zxf"
   }
  },
  {
   "cell_type": "code",
   "source": [
    "errors = []\n",
    "def calculate_angle(x1, y1, x2, y2, x3, y3):\n",
    "    # Calculate the angle given three points using trigonometry\n",
    "    vector1 = np.array([x1 - x2, y1 - y2])\n",
    "    vector2 = np.array([x3 - x2, y3 - y2])\n",
    "\n",
    "    dot_product = np.dot(vector1, vector2)\n",
    "    magnitude_product = np.linalg.norm(vector1) * np.linalg.norm(vector2)\n",
    "\n",
    "    if magnitude_product == 0:\n",
    "        return 0\n",
    "\n",
    "    cosine_angle = dot_product / magnitude_product\n",
    "    angle_rad = np.arccos(np.clip(cosine_angle, -1.0, 1.0))\n",
    "    angle_deg = np.degrees(angle_rad)\n",
    "\n",
    "\n",
    "    return angle_deg\n",
    "\n",
    "def compute_error_feature(row1, row2, row3):\n",
    "    # Extract x and y values from rows\n",
    "    x1, y1 = row1['TiltX'], row1['TiltY']\n",
    "    x2, y2 = row2['TiltX'], row2['TiltY']\n",
    "    x3, y3 = row3['TiltX'], row3['TiltY']\n",
    "\n",
    "    # Calculate angles for triangle and square (e.g., 90 degrees for a square)\n",
    "    triangle_angle = calculate_angle(x1, y1, x2, y2, x3, y3)\n",
    "    square_angle = 90  # Assume 90 degrees for a square\n",
    "\n",
    "    # Check if (SquareAngle − TriangleAngle) < 0\n",
    "    error = square_angle - triangle_angle\n",
    "    \n",
    "    if error < 0: errors.append(error)\n",
    "\n",
    "    return error < 0, row2['timestamp']"
   ],
   "metadata": {
    "id": "qmCD39Ix9Zxf",
    "outputId": "78481ab3-c2bd-4cf1-87f0-c6be2053066d",
    "execution": {
     "iopub.status.busy": "2024-03-10T05:12:23.002888Z",
     "iopub.execute_input": "2024-03-10T05:12:23.003452Z",
     "iopub.status.idle": "2024-03-10T05:12:23.014039Z",
     "shell.execute_reply.started": "2024-03-10T05:12:23.003420Z",
     "shell.execute_reply": "2024-03-10T05:12:23.012706Z"
    },
    "trusted": true
   },
   "execution_count": null,
   "outputs": []
  },
  {
   "cell_type": "markdown",
   "source": [
    "## Feature 21\n",
    "\n",
    "Error: Max = 9, Min = 0"
   ],
   "metadata": {}
  },
  {
   "cell_type": "code",
   "source": [
    "# Initialize an empty list to store results\n",
    "error_features = []\n",
    "errors = []\n",
    "\n",
    "# Iterate through rows to compute the error feature for each pair of points\n",
    "for i in range(0, len(df) - 2, 3):\n",
    "    row1 = df.iloc[i]\n",
    "    row2 = df.iloc[i + 1]\n",
    "    row3 = df.iloc[i + 2]\n",
    "    error_feature, timestamp = compute_error_feature(row1, row2, row3)\n",
    "    error_features.append(int(error_feature))\n",
    "\n",
    "Error = sum(error_features)\n",
    "\n",
    "# Print the results\n",
    "print(\"Error Feature: \", Error) ## sum all ones, 1 = error"
   ],
   "metadata": {
    "execution": {
     "iopub.status.busy": "2024-03-10T05:12:23.015194Z",
     "iopub.execute_input": "2024-03-10T05:12:23.015440Z",
     "iopub.status.idle": "2024-03-10T05:12:23.405362Z",
     "shell.execute_reply.started": "2024-03-10T05:12:23.015419Z",
     "shell.execute_reply": "2024-03-10T05:12:23.404463Z"
    },
    "trusted": true
   },
   "execution_count": null,
   "outputs": []
  },
  {
   "cell_type": "markdown",
   "source": [
    "## Feature 23\n",
    "\n",
    "ErrorStopTime: Max = 1181.0, Min = 0.0"
   ],
   "metadata": {}
  },
  {
   "cell_type": "code",
   "source": [
    "df['timestamp'] = pd.to_datetime(df['timestamp'])\n",
    "error_timestamps = []\n",
    "minima_timestamps = []\n",
    "count = 0\n",
    "errors = []\n",
    "\n",
    "for i in range(1, len(df) - 2, 3):\n",
    "    error, timestamp = compute_error_feature(df.iloc[i-1], df.iloc[i], df.iloc[i+1])\n",
    "    if error:\n",
    "        count += 1\n",
    "        error_timestamps.append(timestamp)\n",
    "        \n",
    "    # Identify minima points for TiltX and TiltY\n",
    "    if (df.iloc[i-1]['TiltX'] > df.iloc[i]['TiltX'] < df.iloc[i+1]['TiltX']) or (df.iloc[i-1]['TiltY'] > df.iloc[i]['TiltY'] < df.iloc[i+1]['TiltY']):\n",
    "        minima_timestamps.append(df.iloc[i]['timestamp'])\n",
    "\n",
    "# Filter minima timestamps that occur before the first error timestamp\n",
    "filtered_minima_timestamps = [t for t in minima_timestamps if any(t < error_time for error_time in error_timestamps)]\n",
    "\n",
    "# Convert timestamps to numeric for calculation\n",
    "numeric_minima_timestamps = [t.timestamp() for t in filtered_minima_timestamps]\n",
    "\n",
    "# Calculate mean starting time\n",
    "ErrorStopTime = np.mean(numeric_minima_timestamps) if numeric_minima_timestamps else None\n",
    "\n",
    "print(f\"ErrorStopTime: {ErrorStopTime}\")"
   ],
   "metadata": {
    "execution": {
     "iopub.status.busy": "2024-03-10T05:12:23.406377Z",
     "iopub.execute_input": "2024-03-10T05:12:23.406675Z",
     "iopub.status.idle": "2024-03-10T05:12:24.467921Z",
     "shell.execute_reply.started": "2024-03-10T05:12:23.406649Z",
     "shell.execute_reply": "2024-03-10T05:12:24.466862Z"
    },
    "trusted": true
   },
   "execution_count": null,
   "outputs": []
  },
  {
   "cell_type": "code",
   "source": [
    "output.at[0, 'Error']= Error\n",
    "output.at[0, 'ErrorStopTime']= ErrorStopTime"
   ],
   "metadata": {
    "id": "AlHlv7Mu9Zxf",
    "execution": {
     "iopub.status.busy": "2024-03-10T05:12:24.469402Z",
     "iopub.execute_input": "2024-03-10T05:12:24.470045Z",
     "iopub.status.idle": "2024-03-10T05:12:24.476752Z",
     "shell.execute_reply.started": "2024-03-10T05:12:24.470007Z",
     "shell.execute_reply": "2024-03-10T05:12:24.475841Z"
    },
    "trusted": true
   },
   "execution_count": null,
   "outputs": []
  },
  {
   "cell_type": "markdown",
   "source": [
    "## Feature 22 <a class=\"anchor\" id=\"F22\"></a> 🛑\n",
    "\n",
    "PeakpresMean: Max = 32306.83333, Min = 10585.6875"
   ],
   "metadata": {
    "id": "BtoPH7Gb9Zxf"
   }
  },
  {
   "cell_type": "code",
   "source": [
    "Pvalleys, _ = find_peaks(- df['Pressure'])\n",
    "Pressure_valleys = df['Pressure'].iloc[Pvalleys]\n",
    "\n",
    "PeakpresMean = stat.mean(Pressure_valleys)\n",
    "\n",
    "print(\"Mean Peak Pressure at Minima:\", PeakpresMean)"
   ],
   "metadata": {
    "id": "16yqH-CQ9Zxg",
    "outputId": "0c6aec0d-56cf-4561-e1fe-37748eb9ea21",
    "execution": {
     "iopub.status.busy": "2024-03-10T05:12:24.478077Z",
     "iopub.execute_input": "2024-03-10T05:12:24.478427Z",
     "iopub.status.idle": "2024-03-10T05:12:24.488360Z",
     "shell.execute_reply.started": "2024-03-10T05:12:24.478393Z",
     "shell.execute_reply": "2024-03-10T05:12:24.487521Z"
    },
    "trusted": true
   },
   "execution_count": null,
   "outputs": []
  },
  {
   "cell_type": "code",
   "source": [
    "output.at[0, 'PeakpresMean']= PeakpresMean"
   ],
   "metadata": {
    "id": "JaL5eMRj9Zxh",
    "execution": {
     "iopub.status.busy": "2024-03-10T05:12:24.489480Z",
     "iopub.execute_input": "2024-03-10T05:12:24.489794Z",
     "iopub.status.idle": "2024-03-10T05:12:24.496971Z",
     "shell.execute_reply.started": "2024-03-10T05:12:24.489768Z",
     "shell.execute_reply": "2024-03-10T05:12:24.496161Z"
    },
    "trusted": true
   },
   "execution_count": null,
   "outputs": []
  },
  {
   "cell_type": "markdown",
   "source": [
    "## Feature 24 <a class=\"anchor\" id=\"F24\"></a> ✅\n",
    "\n",
    "AngleMean: Max = 102.6547381, Min = -6.55796854"
   ],
   "metadata": {
    "id": "obESweqF9Zxh"
   }
  },
  {
   "cell_type": "code",
   "source": [
    "\n",
    "# Step 1: Calculate the tilt angle in degrees\n",
    "df['TiltAngle'] = np.degrees(np.arctan2(df['TiltY'], df['TiltX']))\n",
    "\n",
    "# Step 2: Find indices of maxima and minima in the tilt angle\n",
    "anglepeaks, _ = find_peaks(df['TiltAngle'])\n",
    "anglevalleys, _ = find_peaks(-df['TiltAngle'])\n",
    "\n",
    "# Step 3: Compute mean angle at maxima and minima\n",
    "mean_angle_at_peaks = df['TiltAngle'].iloc[anglepeaks].mean()\n",
    "mean_angle_at_valleys = df['TiltAngle'].iloc[anglevalleys].mean()\n",
    "\n",
    "# Combine the mean angles to get a single value representing the mean angle at maxima and minima\n",
    "AngleMean = np.mean([mean_angle_at_peaks, mean_angle_at_valleys])\n",
    "\n",
    "print(\"Mean Angle:\", AngleMean)"
   ],
   "metadata": {
    "id": "1xHRLbK09Zxh",
    "outputId": "cb5920f0-2008-4a71-c1ee-92d2041c6641",
    "execution": {
     "iopub.status.busy": "2024-03-10T05:12:24.498069Z",
     "iopub.execute_input": "2024-03-10T05:12:24.498372Z",
     "iopub.status.idle": "2024-03-10T05:12:24.508646Z",
     "shell.execute_reply.started": "2024-03-10T05:12:24.498349Z",
     "shell.execute_reply": "2024-03-10T05:12:24.507802Z"
    },
    "trusted": true
   },
   "execution_count": null,
   "outputs": []
  },
  {
   "cell_type": "code",
   "source": [
    "output.at[0, 'AngleMean']= AngleMean"
   ],
   "metadata": {
    "id": "ft1htGYY9Zxh",
    "execution": {
     "iopub.status.busy": "2024-03-10T05:12:24.509909Z",
     "iopub.execute_input": "2024-03-10T05:12:24.510526Z",
     "iopub.status.idle": "2024-03-10T05:12:24.517544Z",
     "shell.execute_reply.started": "2024-03-10T05:12:24.510497Z",
     "shell.execute_reply": "2024-03-10T05:12:24.516645Z"
    },
    "trusted": true
   },
   "execution_count": null,
   "outputs": []
  },
  {
   "cell_type": "markdown",
   "source": [
    "## Feature 25 <a class=\"anchor\" id=\"F25\"></a> ✅\n",
    "AngleVar: Max = 6747.613938, Min = 4.450667084"
   ],
   "metadata": {
    "id": "XTlhQZHg9Zxh"
   }
  },
  {
   "cell_type": "code",
   "source": [
    "\n",
    "variance_angle_at_peaks = df['TiltAngle'].iloc[anglepeaks].var()\n",
    "variance_angle_at_valleys = df['TiltAngle'].iloc[anglevalleys].var()\n",
    "\n",
    "angle_variance = np.mean([variance_angle_at_peaks, variance_angle_at_valleys])\n",
    "\n",
    "print(\"Variance of Angle:\", angle_variance)"
   ],
   "metadata": {
    "id": "edIoS4Zf9Zxh",
    "outputId": "f28a0f80-affa-4187-8896-b84be086e79e",
    "execution": {
     "iopub.status.busy": "2024-03-10T05:12:24.518600Z",
     "iopub.execute_input": "2024-03-10T05:12:24.518877Z",
     "iopub.status.idle": "2024-03-10T05:12:24.528822Z",
     "shell.execute_reply.started": "2024-03-10T05:12:24.518853Z",
     "shell.execute_reply": "2024-03-10T05:12:24.527980Z"
    },
    "trusted": true
   },
   "execution_count": null,
   "outputs": []
  },
  {
   "cell_type": "code",
   "source": [
    "output.at[0, 'angle_variance']= angle_variance"
   ],
   "metadata": {
    "id": "u8TJovsi9Zxh",
    "execution": {
     "iopub.status.busy": "2024-03-10T05:12:24.529954Z",
     "iopub.execute_input": "2024-03-10T05:12:24.530207Z",
     "iopub.status.idle": "2024-03-10T05:12:24.536987Z",
     "shell.execute_reply.started": "2024-03-10T05:12:24.530184Z",
     "shell.execute_reply": "2024-03-10T05:12:24.536213Z"
    },
    "trusted": true
   },
   "execution_count": null,
   "outputs": []
  },
  {
   "cell_type": "markdown",
   "source": [
    "## Feature 26&27 <a class=\"anchor\" id=\"F26_27\"></a> ✅\n",
    "\n",
    "Due to the difference in screen sizes between the two devices, the range of values is different.\n",
    "\n",
    "ReglineSlope: Max = 0.454916871, Min = -0.331638602\n",
    "\n",
    "ReglineIntercept: Max = 1498.927913, Min = 1062.896409"
   ],
   "metadata": {
    "id": "_ebDCBqT9Zxi"
   }
  },
  {
   "cell_type": "code",
   "source": [
    "raw_data = df.filter(['ClientX', 'ClientY', 'TiltX', 'TiltY', 'Pressure', 'timestamp'])\n",
    "\n",
    "correlation_matrix = raw_data.corr()\n",
    "\n",
    "sorted_correlations = correlation_matrix.abs().unstack().sort_values(ascending=False)\n",
    "\n",
    "# Select the top N pairs (adjust N based on your preferences)\n",
    "top_pairs = sorted_correlations[sorted_correlations < 1].head(1).index\n",
    "\n",
    "col1, col2 = top_pairs[0]\n",
    "\n",
    "ReglineSlope = linregress(df[col1], df[col2])[0]\n",
    "ReglineIntercept = linregress(df[col1], df[col2])[1]\n",
    "\n",
    "print(f\"Regression Slope for {col1} vs {col2}: {ReglineSlope}\")\n",
    "print(f\"Regression Intercept for {col1} vs {col2}: {ReglineIntercept}\")"
   ],
   "metadata": {
    "id": "ljFPL_ddrMXj",
    "outputId": "62006185-f8dc-4ea4-f039-d3e8818d4041",
    "execution": {
     "iopub.status.busy": "2024-03-10T05:12:24.537926Z",
     "iopub.execute_input": "2024-03-10T05:12:24.538187Z",
     "iopub.status.idle": "2024-03-10T05:12:24.556099Z",
     "shell.execute_reply.started": "2024-03-10T05:12:24.538165Z",
     "shell.execute_reply": "2024-03-10T05:12:24.555294Z"
    },
    "trusted": true
   },
   "execution_count": null,
   "outputs": []
  },
  {
   "cell_type": "code",
   "source": [
    "output.at[0, 'ReglineSlope']= ReglineSlope\n",
    "output.at[0, 'ReglineIntercept']= ReglineIntercept"
   ],
   "metadata": {
    "id": "44qBeQ8t9Zxi",
    "execution": {
     "iopub.status.busy": "2024-03-10T05:12:24.557152Z",
     "iopub.execute_input": "2024-03-10T05:12:24.557465Z",
     "iopub.status.idle": "2024-03-10T05:12:24.563455Z",
     "shell.execute_reply.started": "2024-03-10T05:12:24.557434Z",
     "shell.execute_reply": "2024-03-10T05:12:24.562497Z"
    },
    "trusted": true
   },
   "execution_count": null,
   "outputs": []
  },
  {
   "cell_type": "markdown",
   "source": [
    "## Feature 28 <a class=\"anchor\" id=\"F28\"></a> 🛑\n",
    "LoopCount Time spent writing divided by the number of peaks\n",
    "\n",
    "LoopCount: Max = 29994.699, Min = 853.9720588"
   ],
   "metadata": {
    "id": "tr9Wmvk09Zxi"
   }
  },
  {
   "cell_type": "code",
   "source": [
    "# # Pressure Peaks ?\n",
    "# Ppeaks, _ = find_peaks(df['Pressure'])\n",
    "# Pressure_peaks = df['Pressure'].iloc[Ppeaks]\n",
    "# LoopCount = timeSpent / len(Pressure_peaks)\n",
    "\n",
    "\n",
    "# #Velocity Peaks ?\n",
    "# Vpeaks, _ = find_peaks(df['Instantaneous_Velocity'])\n",
    "# velocities_at_peaks = df['Instantaneous_Velocity'].iloc[Vpeaks]\n",
    "# LoopCount = timeSpent / len(velocities_at_peaks)\n",
    "\n",
    "\n",
    "# # Acceleration Peaks ?\n",
    "# Apeaks, _ = find_peaks(df['acceleration'])\n",
    "# acceleration_at_peaks = df['acceleration'].iloc[Apeaks]\n",
    "# LoopCount = timeSpent / len(acceleration_at_peaks)\n",
    "\n",
    "\n",
    "# Coordination Peaks ?\n",
    "# Calculate the differences between consecutive points as a proxy for \"speed\" or \"change\"\n",
    "df['DeltaX'] = df['ClientX'].diff()\n",
    "df['DeltaY'] = df['ClientY'].diff()\n",
    "# A simple approach to find \"peaks\" could be to calculate the magnitude of change\n",
    "# and then find peaks in this magnitude\n",
    "df['Magnitude'] = np.sqrt(df['DeltaX']**2 + df['DeltaY']**2)\n",
    "# Find peaks in the magnitude of change\n",
    "Mpeaks, _ = find_peaks(df['Magnitude'], height=None)  # You can adjust parameters as needed\n",
    "Magnitude_peaks = df['Magnitude'].iloc[Mpeaks]\n",
    "LoopCount = timeSpent / len(Magnitude_peaks)\n",
    "\n",
    "\n",
    "\n",
    "\n",
    "print(timeSpent) \n",
    "print(LoopCount)\n"
   ],
   "metadata": {
    "id": "452MrPM24w13",
    "execution": {
     "iopub.status.busy": "2024-03-10T05:12:24.569554Z",
     "iopub.execute_input": "2024-03-10T05:12:24.570240Z",
     "iopub.status.idle": "2024-03-10T05:12:24.579769Z",
     "shell.execute_reply.started": "2024-03-10T05:12:24.570215Z",
     "shell.execute_reply": "2024-03-10T05:12:24.578775Z"
    },
    "trusted": true
   },
   "execution_count": null,
   "outputs": []
  },
  {
   "cell_type": "code",
   "source": [
    "output.at[0, 'LoopCount']= LoopCount"
   ],
   "metadata": {
    "execution": {
     "iopub.status.busy": "2024-03-10T05:12:24.580965Z",
     "iopub.execute_input": "2024-03-10T05:12:24.581871Z",
     "iopub.status.idle": "2024-03-10T05:12:24.588519Z",
     "shell.execute_reply.started": "2024-03-10T05:12:24.581845Z",
     "shell.execute_reply": "2024-03-10T05:12:24.587642Z"
    },
    "trusted": true
   },
   "execution_count": null,
   "outputs": []
  },
  {
   "cell_type": "code",
   "source": [
    "\n",
    "# # Calculate differences\n",
    "# df['DeltaX'] = df['ClientX'].diff()\n",
    "# df['DeltaY'] = df['ClientY'].diff()\n",
    "\n",
    "# # Calculate distance moved between points\n",
    "# df['Distance'] = np.sqrt(df['DeltaX']**2 + df['DeltaY']**2)\n",
    "\n",
    "# # Calculate angle of movement\n",
    "# # Note: np.arctan2 handles division by zero and returns angles in the correct quadrant\n",
    "# df['Angle'] = np.arctan2(df['DeltaY'], df['DeltaX']) * (180 / np.pi)  # Convert to degrees\n",
    "\n",
    "# # Identify stops (you may adjust the threshold according to your needs)\n",
    "# stop_threshold = 0.1  # Example threshold\n",
    "# df['IsStop'] = df['Distance'] <= stop_threshold\n",
    "\n",
    "# # Calculate change in direction\n",
    "# # This is a simple approach; for more accuracy, consider comparing over a sliding window\n",
    "# df['AngleChange'] = df['Angle'].diff().abs()\n",
    "\n",
    "# # Handling angle change correctly due to circular nature (359 to 0 is a small change, not 359)\n",
    "# df['AngleChange'] = df['AngleChange'].apply(lambda x: min(x, 360 - x))\n",
    "\n",
    "# print(df['AngleChange'])"
   ],
   "metadata": {
    "execution": {
     "iopub.status.busy": "2024-03-10T05:12:24.589532Z",
     "iopub.execute_input": "2024-03-10T05:12:24.589841Z",
     "iopub.status.idle": "2024-03-10T05:12:24.597575Z",
     "shell.execute_reply.started": "2024-03-10T05:12:24.589817Z",
     "shell.execute_reply": "2024-03-10T05:12:24.596893Z"
    },
    "trusted": true
   },
   "execution_count": null,
   "outputs": []
  },
  {
   "cell_type": "markdown",
   "source": [
    "## Feature 29 <a class=\"anchor\" id=\"F29\"></a> ✅\n",
    "\n",
    "AngleSpeed: Max = 2461.0, Min = 148.278254"
   ],
   "metadata": {
    "id": "hRp85cUh9Zxj"
   }
  },
  {
   "cell_type": "code",
   "source": [
    "Vpeaks, _ = find_peaks(df['Instantaneous_Velocity'])\n",
    "Vvalleys, _ = find_peaks(-df['Instantaneous_Velocity'])\n",
    "\n",
    "# Extract velocities at peaks and valleys\n",
    "velocities_at_peaks = df['Instantaneous_Velocity'].iloc[Vpeaks]\n",
    "velocities_at_valleys = df['Instantaneous_Velocity'].iloc[Vvalleys]\n",
    "\n",
    "# Calculate mean velocities at peaks and valleys\n",
    "mean_velocity_at_peaks = velocities_at_peaks.mean()\n",
    "mean_velocity_at_valleys = velocities_at_valleys.mean()\n",
    "\n",
    "# Combine the mean velocities to get a single value\n",
    "AngleSpeed = np.mean([mean_velocity_at_peaks, mean_velocity_at_valleys])\n",
    "\n",
    "print(\"Mean of velocities at the edge of peaks and valleys:\", AngleSpeed)"
   ],
   "metadata": {
    "id": "ejSlCaxc_vSw",
    "outputId": "fd384e71-775a-4e9e-bffd-62f5517178d4",
    "execution": {
     "iopub.status.busy": "2024-03-10T05:12:24.598492Z",
     "iopub.execute_input": "2024-03-10T05:12:24.598763Z",
     "iopub.status.idle": "2024-03-10T05:12:24.611193Z",
     "shell.execute_reply.started": "2024-03-10T05:12:24.598719Z",
     "shell.execute_reply": "2024-03-10T05:12:24.610232Z"
    },
    "trusted": true
   },
   "execution_count": null,
   "outputs": []
  },
  {
   "cell_type": "code",
   "source": [
    "output.at[0, 'AngleSpeed']= AngleSpeed"
   ],
   "metadata": {
    "id": "pzebNuPi9Zxj",
    "execution": {
     "iopub.status.busy": "2024-03-10T05:12:24.612509Z",
     "iopub.execute_input": "2024-03-10T05:12:24.612830Z",
     "iopub.status.idle": "2024-03-10T05:12:24.619453Z",
     "shell.execute_reply.started": "2024-03-10T05:12:24.612800Z",
     "shell.execute_reply": "2024-03-10T05:12:24.618665Z"
    },
    "trusted": true
   },
   "execution_count": null,
   "outputs": []
  },
  {
   "cell_type": "markdown",
   "source": [
    "## Feature 30 <a class=\"anchor\" id=\"F30\"></a> ✅\n",
    "\n",
    "ErrorRate: Max = 0.4, Min = 0.0"
   ],
   "metadata": {
    "id": "m9FPF6dVERq-"
   }
  },
  {
   "cell_type": "code",
   "source": [
    "Error_Rate = abs(Error/max(errors))\n",
    "print(Error_Rate)"
   ],
   "metadata": {
    "id": "yjrjW6LiEX4L",
    "outputId": "64cb3111-dfa6-438a-8a17-e7ae5fefae43",
    "execution": {
     "iopub.status.busy": "2024-03-10T05:12:24.620430Z",
     "iopub.execute_input": "2024-03-10T05:12:24.621308Z",
     "iopub.status.idle": "2024-03-10T05:12:24.631633Z",
     "shell.execute_reply.started": "2024-03-10T05:12:24.621274Z",
     "shell.execute_reply": "2024-03-10T05:12:24.630784Z"
    },
    "trusted": true
   },
   "execution_count": null,
   "outputs": []
  },
  {
   "cell_type": "code",
   "source": [
    "output.at[0, 'Error_Rate']= Error_Rate"
   ],
   "metadata": {
    "id": "ypz3POLFBEJa",
    "execution": {
     "iopub.status.busy": "2024-03-10T05:12:24.632660Z",
     "iopub.execute_input": "2024-03-10T05:12:24.632959Z",
     "iopub.status.idle": "2024-03-10T05:12:24.640239Z",
     "shell.execute_reply.started": "2024-03-10T05:12:24.632936Z",
     "shell.execute_reply": "2024-03-10T05:12:24.639350Z"
    },
    "trusted": true
   },
   "execution_count": null,
   "outputs": []
  },
  {
   "cell_type": "code",
   "source": [
    "output.to_csv('output.csv')"
   ],
   "metadata": {
    "id": "dL3we3Id9Zxj",
    "execution": {
     "iopub.status.busy": "2024-03-10T05:12:24.641471Z",
     "iopub.execute_input": "2024-03-10T05:12:24.641821Z",
     "iopub.status.idle": "2024-03-10T05:12:24.650863Z",
     "shell.execute_reply.started": "2024-03-10T05:12:24.641790Z",
     "shell.execute_reply": "2024-03-10T05:12:24.650087Z"
    },
    "trusted": true
   },
   "execution_count": null,
   "outputs": []
  }
 ]
}
